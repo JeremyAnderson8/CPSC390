{
 "cells": [
  {
   "cell_type": "code",
   "execution_count": 1,
   "id": "moved-painting",
   "metadata": {},
   "outputs": [],
   "source": [
    "import matplotlib.pyplot as plt #For Visualization\n",
    "import numpy as np              #For handling arrays\n",
    "import pandas as pd     \n",
    "from sklearn.metrics import accuracy_score        "
   ]
  },
  {
   "cell_type": "code",
   "execution_count": 2,
   "id": "particular-findings",
   "metadata": {},
   "outputs": [],
   "source": [
    "#Define Directories for train, test & Validation Set\n",
    "train_path = './data/train'\n",
    "test_path = './data/test'\n",
    "valid_path = './data/validation'"
   ]
  },
  {
   "cell_type": "code",
   "execution_count": 3,
   "id": "joint-graham",
   "metadata": {},
   "outputs": [],
   "source": [
    "#Define some often used standard parameters\n",
    "#The batch refers to the number of training examples utilized in one #iteration\n",
    "batch_size = 16 \n",
    "#The dimension of the images we are going to define is 500x500 img_height = 500\n",
    "img_width = 128\n",
    "img_height = 128"
   ]
  },
  {
   "cell_type": "code",
   "execution_count": 4,
   "id": "juvenile-massage",
   "metadata": {},
   "outputs": [
    {
     "name": "stdout",
     "output_type": "stream",
     "text": [
      "Found 1620 images belonging to 2 classes.\n",
      "Found 200 images belonging to 2 classes.\n",
      "Found 180 images belonging to 2 classes.\n"
     ]
    }
   ],
   "source": [
    "from keras.preprocessing.image import ImageDataGenerator\n",
    "# Create Image Data Generator for Train Set\n",
    "image_gen = ImageDataGenerator(rescale=1./255,rotation_range=20, width_shift_range=0.2, height_shift_range=0.2, horizontal_flip=True)\n",
    "\n",
    "train = image_gen.flow_from_directory(train_path,\n",
    "      target_size=(img_height, img_width), \n",
    "      shuffle=True,\n",
    "      color_mode='grayscale',\n",
    "      class_mode='binary',\n",
    "      batch_size=batch_size\n",
    "      )\n",
    "\n",
    "images_train, labels_train = next(train)\n",
    "\n",
    "# Create Image Data Generator for Test/Validation Set\n",
    "test_data_gen = ImageDataGenerator(rescale = 1./255)\n",
    "test = test_data_gen.flow_from_directory(\n",
    "      test_path,\n",
    "      target_size=(img_height, img_width),\n",
    "      color_mode='grayscale',\n",
    "      shuffle=False, \n",
    "\n",
    "      class_mode='binary',\n",
    "      batch_size=batch_size\n",
    "      )\n",
    "\n",
    "valid_data_gen = ImageDataGenerator(rescale = 1./255)\n",
    "valid = valid_data_gen.flow_from_directory(\n",
    "      valid_path,\n",
    "      target_size=(img_height, img_width),\n",
    "      color_mode='grayscale',\n",
    "      class_mode='binary', \n",
    "      batch_size=batch_size,\n",
    "      shuffle=False,\n",
    "      )"
   ]
  },
  {
   "cell_type": "code",
   "execution_count": 5,
   "id": "broken-sender",
   "metadata": {},
   "outputs": [],
   "source": [
    "from tensorflow.keras.models import Sequential\n",
    "from tensorflow.keras.layers import Dense,Conv2D,Flatten,MaxPooling2D\n",
    "from tensorflow.keras.callbacks import EarlyStopping,ReduceLROnPlateau\n",
    "cnn = Sequential()\n",
    "cnn.add(Conv2D(32, (3, 3), activation=\"relu\", input_shape=(img_width, img_height, 1)))\n",
    "cnn.add(MaxPooling2D(pool_size = (2, 2)))\n",
    "cnn.add(Conv2D(32, (3, 3), activation=\"relu\", input_shape=(img_width, img_height, 1)))\n",
    "cnn.add(MaxPooling2D(pool_size = (2, 2)))\n",
    "cnn.add(Conv2D(32, (3, 3), activation=\"relu\", input_shape=(img_width, img_height, 1)))\n",
    "cnn.add(MaxPooling2D(pool_size = (2, 2)))\n",
    "cnn.add(Conv2D(64, (3, 3), activation=\"relu\", input_shape=(img_width, img_height, 1)))\n",
    "cnn.add(MaxPooling2D(pool_size = (2, 2)))\n",
    "cnn.add(Conv2D(64, (3, 3), activation=\"relu\", input_shape=(img_width, img_height, 1)))\n",
    "cnn.add(MaxPooling2D(pool_size = (2, 2)))\n",
    "cnn.add(Flatten())\n",
    "cnn.add(Dense(activation = 'relu', units = 128))\n",
    "cnn.add(Dense(activation = 'relu', units = 64))\n",
    "cnn.add(Dense(activation = 'sigmoid', units = 1))\n",
    "cnn.compile(optimizer = 'adam', loss = 'binary_crossentropy', metrics = ['accuracy'])                 "
   ]
  },
  {
   "cell_type": "code",
   "execution_count": 6,
   "id": "confused-hydrogen",
   "metadata": {},
   "outputs": [
    {
     "name": "stderr",
     "output_type": "stream",
     "text": [
      "/opt/anaconda3/envs/cpsc390/lib/python3.8/site-packages/sklearn/utils/validation.py:70: FutureWarning: Pass classes=[0 1], y=[0 0 0 ... 1 1 1] as keyword args. From version 1.0 (renaming of 0.25) passing these as positional arguments will result in an error\n",
      "  warnings.warn(f\"Pass {args_msg} as keyword args. From version \"\n"
     ]
    },
    {
     "name": "stdout",
     "output_type": "stream",
     "text": [
      "Epoch 1/25\n",
      "102/102 [==============================] - 9s 82ms/step - loss: 0.6632 - accuracy: 0.5728 - val_loss: 0.3090 - val_accuracy: 0.9056\n",
      "Epoch 2/25\n",
      "102/102 [==============================] - 8s 76ms/step - loss: 0.3532 - accuracy: 0.8664 - val_loss: 0.2528 - val_accuracy: 0.9167\n",
      "Epoch 3/25\n",
      "102/102 [==============================] - 8s 78ms/step - loss: 0.2976 - accuracy: 0.9013 - val_loss: 0.2574 - val_accuracy: 0.9222\n",
      "Epoch 4/25\n",
      "102/102 [==============================] - 9s 88ms/step - loss: 0.2274 - accuracy: 0.9249 - val_loss: 0.2581 - val_accuracy: 0.9167\n",
      "\n",
      "Epoch 00004: ReduceLROnPlateau reducing learning rate to 0.0003000000142492354.\n",
      "Epoch 5/25\n",
      "102/102 [==============================] - 9s 89ms/step - loss: 0.1969 - accuracy: 0.9361 - val_loss: 0.1862 - val_accuracy: 0.9389\n",
      "Epoch 6/25\n",
      "102/102 [==============================] - 10s 93ms/step - loss: 0.1671 - accuracy: 0.9475 - val_loss: 0.1802 - val_accuracy: 0.9444\n",
      "Epoch 7/25\n",
      "102/102 [==============================] - 9s 88ms/step - loss: 0.1758 - accuracy: 0.9485 - val_loss: 0.1760 - val_accuracy: 0.9500\n",
      "Epoch 8/25\n",
      "102/102 [==============================] - 9s 85ms/step - loss: 0.1662 - accuracy: 0.9507 - val_loss: 0.2062 - val_accuracy: 0.9389\n",
      "Epoch 9/25\n",
      "102/102 [==============================] - 8s 81ms/step - loss: 0.1659 - accuracy: 0.9442 - val_loss: 0.1741 - val_accuracy: 0.9500\n",
      "Epoch 10/25\n",
      "102/102 [==============================] - 9s 84ms/step - loss: 0.1534 - accuracy: 0.9568 - val_loss: 0.1553 - val_accuracy: 0.9444\n",
      "Epoch 11/25\n",
      "102/102 [==============================] - 9s 88ms/step - loss: 0.1256 - accuracy: 0.9637 - val_loss: 0.1699 - val_accuracy: 0.9444\n",
      "Epoch 12/25\n",
      "102/102 [==============================] - 9s 87ms/step - loss: 0.1463 - accuracy: 0.9566 - val_loss: 0.1724 - val_accuracy: 0.9556\n",
      "\n",
      "Epoch 00012: ReduceLROnPlateau reducing learning rate to 9.000000427477062e-05.\n",
      "Epoch 13/25\n",
      "102/102 [==============================] - 10s 97ms/step - loss: 0.1255 - accuracy: 0.9586 - val_loss: 0.1477 - val_accuracy: 0.9556\n",
      "Epoch 14/25\n",
      "102/102 [==============================] - 11s 103ms/step - loss: 0.1207 - accuracy: 0.9574 - val_loss: 0.1489 - val_accuracy: 0.9556\n",
      "Epoch 15/25\n",
      "102/102 [==============================] - 11s 109ms/step - loss: 0.1219 - accuracy: 0.9632 - val_loss: 0.1376 - val_accuracy: 0.9556\n",
      "Epoch 16/25\n",
      "102/102 [==============================] - 9s 87ms/step - loss: 0.1258 - accuracy: 0.9639 - val_loss: 0.1401 - val_accuracy: 0.9500\n",
      "Epoch 17/25\n",
      "102/102 [==============================] - 10s 93ms/step - loss: 0.1406 - accuracy: 0.9533 - val_loss: 0.1517 - val_accuracy: 0.9556\n",
      "\n",
      "Epoch 00017: ReduceLROnPlateau reducing learning rate to 2.700000040931627e-05.\n",
      "Epoch 18/25\n",
      "102/102 [==============================] - 11s 108ms/step - loss: 0.1281 - accuracy: 0.9572 - val_loss: 0.1394 - val_accuracy: 0.9556\n"
     ]
    },
    {
     "data": {
      "text/plain": [
       "<tensorflow.python.keras.callbacks.History at 0x7fe3e8f6f940>"
      ]
     },
     "execution_count": 6,
     "metadata": {},
     "output_type": "execute_result"
    }
   ],
   "source": [
    "early = EarlyStopping(monitor=\"val_loss\", mode=\"min\", patience=3)\n",
    "learning_rate_reduction = ReduceLROnPlateau(monitor=\"val_loss\", patience = 2, verbose=1,factor=0.3, min_lr=0.00001)\n",
    "callbacks_list = [ early, learning_rate_reduction]\n",
    "\n",
    "from sklearn.utils.class_weight import compute_class_weight\n",
    "weights = compute_class_weight('balanced', np.unique(train.classes), train.classes)\n",
    "cw = dict(zip( np.unique(train.classes), weights))\n",
    "cnn.fit(train, validation_data=valid, epochs=25,class_weight=cw,callbacks=callbacks_list)"
   ]
  },
  {
   "cell_type": "code",
   "execution_count": 7,
   "id": "elder-heavy",
   "metadata": {},
   "outputs": [
    {
     "data": {
      "image/png": "[encoded data removed]",
      "text/plain": [
       "<Figure size 432x288 with 1 Axes>"
      ]
     },
     "metadata": {
      "needs_background": "light"
     },
     "output_type": "display_data"
    },
    {
     "data": {
      "image/png": "[encoded data removed]",
      "text/plain": [
       "<Figure size 432x288 with 1 Axes>"
      ]
     },
     "metadata": {
      "needs_background": "light"
     },
     "output_type": "display_data"
    }
   ],
   "source": [
    "# plot accuracy\n",
    "plt.figure()\n",
    "plt.plot(cnn.history.history['accuracy'])\n",
    "plt.plot(cnn.history.history['val_accuracy'])\n",
    "plt.title('model accuracy')\n",
    "plt.ylabel('accuracy')\n",
    "plt.xlabel('epoch')\n",
    "plt.legend(['train', 'validation'], loc='upper left')\n",
    "plt.show()\n",
    "# plot  loss\n",
    "plt.figure()\n",
    "plt.plot(cnn.history.history['loss'])\n",
    "plt.plot(cnn.history.history['val_loss'])\n",
    "plt.title('model loss')\n",
    "plt.ylabel('loss')\n",
    "plt.xlabel('epoch')\n",
    "plt.legend(['train', 'validation'], loc='upper left')\n",
    "plt.show()"
   ]
  },
  {
   "cell_type": "code",
   "execution_count": 8,
   "id": "conventional-validity",
   "metadata": {},
   "outputs": [
    {
     "name": "stdout",
     "output_type": "stream",
     "text": [
      "\n",
      "TEST METRICS ----------------------\n",
      "Accuracy: 0.96%\n",
      "Precision: 97.91666666666666%\n",
      "Recall: 94.0%\n",
      "F1-score: 95.91836734693878\n"
     ]
    }
   ],
   "source": [
    "preds = cnn.predict(test)\n",
    "predictions = preds.copy()\n",
    "predictions[predictions <= 0.5] = 0\n",
    "predictions[predictions > 0.5] = 1\n",
    "from sklearn.metrics import classification_report,confusion_matrix\n",
    "acc=accuracy_score(test.classes, predictions)\n",
    "cm = confusion_matrix(test.classes, predictions)\n",
    "tn, fp, fn, tp = cm.ravel()\n",
    "print('\\nTEST METRICS ----------------------')\n",
    "precision = tp/(tp+fp)*100\n",
    "recall = tp/(tp+fn)*100\n",
    "print('Accuracy: {}%'.format(acc))\n",
    "print('Precision: {}%'.format(precision))\n",
    "print('Recall: {}%'.format(recall))\n",
    "print('F1-score: {}'.format(2*precision*recall/(precision+recall)))"
   ]
  },
  {
   "cell_type": "code",
   "execution_count": 9,
   "id": "particular-secondary",
   "metadata": {},
   "outputs": [
    {
     "name": "stdout",
     "output_type": "stream",
     "text": [
      "              precision    recall  f1-score   support\n",
      "\n",
      "       covid       0.94      0.98      0.96       100\n",
      "      normal       0.98      0.94      0.96       100\n",
      "\n",
      "    accuracy                           0.96       200\n",
      "   macro avg       0.96      0.96      0.96       200\n",
      "weighted avg       0.96      0.96      0.96       200\n",
      "\n"
     ]
    },
    {
     "data": {
      "image/png": "[encoded data removed]",
      "text/plain": [
       "<Figure size 432x288 with 2 Axes>"
      ]
     },
     "metadata": {
      "needs_background": "light"
     },
     "output_type": "display_data"
    }
   ],
   "source": [
    "import seaborn as sns\n",
    "sns.heatmap(cm,annot=True,fmt=\"d\")\n",
    "print(classification_report(y_true=test.classes,y_pred=predictions,target_names =['covid','normal']))\n"
   ]
  },
  {
   "cell_type": "code",
   "execution_count": null,
   "id": "competent-triumph",
   "metadata": {},
   "outputs": [],
   "source": []
  }
 ],
 "metadata": {
  "kernelspec": {
   "display_name": "Python 3",
   "language": "python",
   "name": "python3"
  },
  "language_info": {
   "codemirror_mode": {
    "name": "ipython",
    "version": 3
   },
   "file_extension": ".py",
   "mimetype": "text/x-python",
   "name": "python",
   "nbconvert_exporter": "python",
   "pygments_lexer": "ipython3",
   "version": "3.8.5"
  }
 },
 "nbformat": 4,
 "nbformat_minor": 5
}
